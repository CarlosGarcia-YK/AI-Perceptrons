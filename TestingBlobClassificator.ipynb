{
 "cells": [
  {
   "cell_type": "code",
   "execution_count": 33,
   "metadata": {},
   "outputs": [
    {
     "name": "stderr",
     "output_type": "stream",
     "text": [
      "WARNING:absl:Compiled the loaded model, but the compiled metrics have yet to be built. `model.compile_metrics` will be empty until you train or evaluate the model.\n"
     ]
    }
   ],
   "source": [
    "from tensorflow.keras.models import load_model\n",
    "from joblib import load\n",
    "import numpy as np\n",
    "import warnings\n",
    "\n",
    "\n",
    "\n",
    "warnings.filterwarnings('ignore', message=\"X does not have valid feature names, but StandardScaler was fitted with feature names\")\n",
    "\n",
    "# Cargar el modelo\n",
    "model = load_model('Models\\mi_modelo_completo.h5')  # o usar 'mi_modelo' si usaste SavedModel\n",
    "\n",
    "# Cargar el scaler\n",
    "scaler = load('Models\\mi_scaler.joblib')\n",
    "\n",
    "# Ahora puedes usar `model` y `scaler` para hacer predicciones con nuevos datos\n"
   ]
  },
  {
   "cell_type": "code",
   "execution_count": 51,
   "metadata": {},
   "outputs": [],
   "source": [
    "# Supongamos nuevos datos\n",
    "x = 0\n",
    "size_nuevo = 0\n",
    "\n",
    "# Escalar los nuevos datos\n",
    "X_nuevo_scaled = scaler.transform([[x, size_nuevo]])\n",
    "\n",
    "clase_a_string = {0: 'o', 1: 'j', 2: 'i', 3: 'l'}\n"
   ]
  },
  {
   "cell_type": "code",
   "execution_count": 52,
   "metadata": {},
   "outputs": [
    {
     "name": "stdout",
     "output_type": "stream",
     "text": [
      "\u001b[1m1/1\u001b[0m \u001b[32m━━━━━━━━━━━━━━━━━━━━\u001b[0m\u001b[37m\u001b[0m \u001b[1m0s\u001b[0m 50ms/step\n",
      "Última Clase Predicha: 0\n",
      "Última Clase Predicha en texto: o\n"
     ]
    }
   ],
   "source": [
    "# Hacer la predicción\n",
    "prediccion = model.predict(X_nuevo_scaled)\n",
    "predicted_classes = np.argmax(prediccion, axis=1)\n",
    "\n",
    "if len(predicted_classes) > 0:\n",
    "    # Obtener el último valor predicho\n",
    "    last_predicted_class = predicted_classes[-1]\n",
    "    result = clase_a_string[last_predicted_class]\n",
    "\n",
    "    print(f\"Última Clase Predicha: {last_predicted_class}\")\n",
    "    print(f\"Última Clase Predicha en texto: {result}\")\n",
    "else:\n",
    "    print(\"No se recibieron predicciones.\")\n"
   ]
  }
 ],
 "metadata": {
  "kernelspec": {
   "display_name": "Python 3",
   "language": "python",
   "name": "python3"
  },
  "language_info": {
   "codemirror_mode": {
    "name": "ipython",
    "version": 3
   },
   "file_extension": ".py",
   "mimetype": "text/x-python",
   "name": "python",
   "nbconvert_exporter": "python",
   "pygments_lexer": "ipython3",
   "version": "3.11.9"
  }
 },
 "nbformat": 4,
 "nbformat_minor": 2
}
